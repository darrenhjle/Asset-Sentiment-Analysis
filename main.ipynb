{
 "cells": [
  {
   "cell_type": "markdown",
   "metadata": {},
   "source": [
    "## Importing Libraries"
   ]
  },
  {
   "cell_type": "code",
   "execution_count": 4,
   "metadata": {},
   "outputs": [],
   "source": [
    "from transformers import pipeline, AutoTokenizer, TFAutoModelForSeq2SeqLM\n",
    "from bs4 import BeautifulSoup\n",
    "import tf_keras as keras\n",
    "import re\n",
    "import requests"
   ]
  },
  {
   "cell_type": "markdown",
   "metadata": {},
   "source": [
    "## Initializing Tokenizer, Summarizer and Sentiment Analysis models"
   ]
  },
  {
   "cell_type": "code",
   "execution_count": 5,
   "metadata": {},
   "outputs": [
    {
     "name": "stdout",
     "output_type": "stream",
     "text": [
      "WARNING:tensorflow:From C:\\Users\\79860\\AppData\\Roaming\\Python\\Python311\\site-packages\\tf_keras\\src\\backend.py:873: The name tf.get_default_graph is deprecated. Please use tf.compat.v1.get_default_graph instead.\n",
      "\n"
     ]
    },
    {
     "name": "stderr",
     "output_type": "stream",
     "text": [
      "All PyTorch model weights were used when initializing TFPegasusForConditionalGeneration.\n",
      "\n",
      "Some weights or buffers of the TF 2.0 model TFPegasusForConditionalGeneration were not initialized from the PyTorch model and are newly initialized: ['model.encoder.embed_positions.weight', 'model.decoder.embed_positions.weight']\n",
      "You should probably TRAIN this model on a down-stream task to be able to use it for predictions and inference.\n"
     ]
    }
   ],
   "source": [
    "# Initialize the tokenizer for the financial summarization model\n",
    "tokenizer = AutoTokenizer.from_pretrained(\"human-centered-summarization/financial-summarization-pegasus\")\n",
    "\n",
    "# Initialize the summarization model\n",
    "summarizer = TFAutoModelForSeq2SeqLM.from_pretrained(\"human-centered-summarization/financial-summarization-pegasus\")\n",
    "\n",
    "# Initialize the sentiment analysis pipeline using the FinBERT model\n",
    "sentiment_analysis = pipeline(\"sentiment-analysis\", model=\"yiyanghkust/finbert-tone\")"
   ]
  },
  {
   "cell_type": "code",
   "execution_count": 6,
   "metadata": {},
   "outputs": [],
   "source": [
    "# Initialize the tickers to be used in the sentiment analysis\n",
    "# Using the top 2 cryptocurrencies as an example\n",
    "tickers = ['BTC', 'ETH']"
   ]
  },
  {
   "cell_type": "markdown",
   "metadata": {},
   "source": [
    "## Search news URL method"
   ]
  },
  {
   "cell_type": "code",
   "execution_count": 7,
   "metadata": {},
   "outputs": [],
   "source": [
    "# Function to find news articles for a given ticker\n",
    "def search_for_news_urls(ticker):\n",
    "    # Construct the Google search URL for Yahoo Finance news related to the ticker\n",
    "    search_url = f\"https://www.google.com/search?q=yahoo+finance+{ticker}&tbm=nws\"\n",
    "    \n",
    "    # Make a request to the search URL\n",
    "    response = requests.get(search_url)\n",
    "    \n",
    "    # Parse the HTML content of the response\n",
    "    soup = BeautifulSoup(response.text, 'html.parser')\n",
    "    \n",
    "    # Find all anchor tags in the parsed HTML content\n",
    "    anchor_tags = soup.find_all('a')\n",
    "    \n",
    "    # Extract the href attributes from the anchor tags\n",
    "    hrefs = [link['href'] for link in anchor_tags]\n",
    "    \n",
    "    return hrefs"
   ]
  },
  {
   "cell_type": "code",
   "execution_count": 8,
   "metadata": {},
   "outputs": [
    {
     "data": {
      "text/plain": [
       "dict_keys(['BTC', 'ETH'])"
      ]
     },
     "execution_count": 8,
     "metadata": {},
     "output_type": "execute_result"
    }
   ],
   "source": [
    "# Create a dictionary where each ticker is mapped to its corresponding news article URLs\n",
    "# The search_for_news_urls function is called for each ticker to get the news URLs\n",
    "raw = {ticker: search_for_news_urls(ticker) for ticker in tickers}\n",
    "\n",
    "# Display the keys of the raw dictionary, which are the tickers\n",
    "raw.keys()"
   ]
  },
  {
   "cell_type": "markdown",
   "metadata": {},
   "source": [
    "## Cleaning Up URLs"
   ]
  },
  {
   "cell_type": "code",
   "execution_count": 9,
   "metadata": {},
   "outputs": [],
   "source": [
    "# List of words to exclude\n",
    "exclude = [\n",
    "    'maps',\n",
    "    'policies', \n",
    "    'preferences', \n",
    "    'accounts', \n",
    "    'support'\n",
    "]\n",
    "\n",
    "# Function to filter out unwanted URLs based on the list of excluded words\n",
    "# @param urls: List of URLs to filter\n",
    "# @param excludeList: List of words to exclude from URLs\n",
    "# @return: List of filtered URLs\n",
    "def filter(urls, excludeList):\n",
    "    filtered_urls = []\n",
    "    for url in urls:\n",
    "        # Check if the URL starts with 'https://' and does not contain any excluded words\n",
    "        if 'https://' in url and not any(word in url for word in excludeList):\n",
    "            # Extract the URL up to the first '&' character\n",
    "            cleaned_url = re.findall(r'(https?://\\S+)', url)[0].split('&')[0]\n",
    "            filtered_urls.append(cleaned_url)\n",
    "    # Remove duplicates by converting the list to a set and back to a list\n",
    "    return list(set(filtered_urls))"
   ]
  },
  {
   "cell_type": "code",
   "execution_count": 10,
   "metadata": {},
   "outputs": [
    {
     "data": {
      "text/plain": [
       "{'BTC': ['https://sg.finance.yahoo.com/news/bitcoins-double-top-suggests-btc-062739635.html',\n",
       "  'https://finance.yahoo.com/news/bitcoin-signals-potential-bottom-market-053052099.html',\n",
       "  'https://www.google.com/search?q%3Dyahoo%2Bfinance%2BBTC%26tbm%3Dnws%26pccc%3D1',\n",
       "  'https://finance.yahoo.com/video/bitcoin-back-below-60k-look-133426663.html',\n",
       "  'https://sg.finance.yahoo.com/news/48-singapore-crypto-investors-double-130000395.html',\n",
       "  'https://finance.yahoo.com/news/bitcoin-is-having-its-worst-week-since-the-fall-of-ftx-153406320.html',\n",
       "  'https://finance.yahoo.com/news/bitcoin-price-today-down-58k-062123138.html',\n",
       "  'https://sg.finance.yahoo.com/news/bitcoin-summer-2024-expect-153233549.html',\n",
       "  'https://sg.finance.yahoo.com/news/bitcoin-could-reach-high-us-023053354.html',\n",
       "  'https://finance.yahoo.com/video/bitcoin-rebound-markets-recover-market-215949834.html',\n",
       "  'https://sg.finance.yahoo.com/news/bitcoin-halving-prices-another-high-074351948.html'],\n",
       " 'ETH': ['https://finance.yahoo.com/news/solana-reaches-high-against-ethereum-062439434.html',\n",
       "  'https://finance.yahoo.com/news/spot-ethereum-etfs-receive-inflows-221707679.html',\n",
       "  'https://finance.yahoo.com/video/stocks-little-changed-investors-await-173336341.html',\n",
       "  'https://sg.finance.yahoo.com/news/bitcoins-smarter-brother-octas-guide-020000956.html',\n",
       "  'https://finance.yahoo.com/news/3-reasons-ultimate-cryptocurrency-buy-080100540.html',\n",
       "  'https://finance.yahoo.com/news/jump-trading-allegedly-moves-29m-104938115.html',\n",
       "  'https://www.google.com/search?q%3Dyahoo%2Bfinance%2BETH%26tbm%3Dnws%26pccc%3D1',\n",
       "  'https://finance.yahoo.com/video/crypto-market-rebounds-global-sell-150121276.html',\n",
       "  'https://finance.yahoo.com/news/3-crypto-stocks-watch-ethereum-115600602.html',\n",
       "  'https://sg.finance.yahoo.com/news/ether-slides-20-trading-firm-050241805.html',\n",
       "  'https://sg.finance.yahoo.com/news/blackrock-seeing-only-little-bit-160509328.html']}"
      ]
     },
     "execution_count": 10,
     "metadata": {},
     "output_type": "execute_result"
    }
   ],
   "source": [
    "# Clean the URLs for each ticker by removing unwanted URLs based on the exclude list\n",
    "# This creates a dictionary where each ticker is mapped to a list of cleaned URLs\n",
    "cleanURLS = {ticker: filter(raw[ticker], exclude) for ticker in raw.keys()}\n",
    "\n",
    "# Display the cleaned URLs for each ticker\n",
    "cleanURLS"
   ]
  },
  {
   "cell_type": "markdown",
   "metadata": {},
   "source": [
    "## Scraping content"
   ]
  },
  {
   "cell_type": "code",
   "execution_count": 11,
   "metadata": {},
   "outputs": [],
   "source": [
    "def scrape(urls):\n",
    "    articles = []\n",
    "    for url in urls:\n",
    "        r = requests.get(url)\n",
    "        soup = BeautifulSoup(r.text, 'html.parser')\n",
    "        para = soup.find_all ('p')\n",
    "        text = [paragraph.text for paragraph in para]\n",
    "        words = ' '.join(text).split(' ')[:350]\n",
    "        article = ' '.join(words)\n",
    "        articles.append(article)\n",
    "    return articles"
   ]
  },
  {
   "cell_type": "code",
   "execution_count": 12,
   "metadata": {},
   "outputs": [
    {
     "data": {
      "text/plain": [
       "{'BTC': ['Thank you for your patience. Our engineers are working quickly to resolve the issue.',\n",
       "  'According to recent analysis on CryptoQuant, Bitcoin (BTC) is showing signs of hitting a \"local bottom\" in the recent early August sell-off. An insight posted on the on-chain analytics platform highlighted bullish signals from the network value to transaction golden cross (NVT-GC) tool, suggesting room for growth. Despite recent warnings of a potential breakdown in BTC/USD, the NVT-GC tool, akin to Bollinger Bands, indicates a possible rebound. This metric compares Bitcoin\\'s market cap to transaction value over time, identifying local market tops and bottoms. CryptoQuant contributor Burakkesmeci explained that if the NVT-GC rises above 2.2 points, it signals an overheated price, while a drop below -1.6 points suggests excessive cooling and a local bottom. Currently, the tool indicates a local bottom, similar to signals on January 18 and July 12, which preceded price gains of 78% and 23%, respectively. BTC is currently trading at $58,681, down 3.8% over the past 24 hours after having lost the $60,000 level. However, Bitcoin gained 7.58% over the past 7 days after a strong recovery from the lows of $49,500. Sign in to access your portfolio',\n",
       "  '© 2024 - Privacy - Terms',\n",
       "  'Thank you for your patience. Our engineers are working quickly to resolve the issue.',\n",
       "  'Thank you for your patience. Our engineers are working quickly to resolve the issue.',\n",
       "  'Bitcoin (BTC-USD) rose 5% on Tuesday, rebounding slightly after experiencing its worst week since the the collapse of Sam Bankman Fried’s FTX cryptocurrency exchange in November 2022. The world’s largest cryptocurrency fell 20% over the last week, hitting its lowest levels Sunday and early Monday morning amid a wider correction across financial markets. Bitcoin\\'s price briefly tumbled below $50,000 to its lowest price since February. It has lost more than $13,000 in value over the last seven days. Ether (ETH-USD), the second-largest cryptocurrency, absorbed even heavier losses. It fell 27% over the last seven days, briefly seeing its biggest single-day drop since late 2021. The crypto sell-off comes after a series of events that gave investors new hope that a bull market in digital assets could just be getting started and that the industry was past a severe 2022 meltdown that took down some of the biggest players, including FTX. In fact, just two weeks ago bitcoin was within striking distance of an all-time high of $74,000 set in March as former President Donald Trump prepared to speak at a bitcoin conference in Nashville. The stamp of approval from the Republican presidential nominee had many in the industry hyped about a friendlier regulatory approach from Washington, D.C., in 2025 and beyond. Investors were also excited about Securities and Exchange Commission approvals for big money managers to issue new exchange-traded funds that hold ether — one of the latest example of how Wall Street is embracing cryptocurrencies. Those ETFs could make ether a potential staple in 401(k)s, IRAs, and pension plans and grant the digital asset more mainstream acceptance. Many of the same money managers that received SEC approval already had ETFs that invest directly in bitcoin. But these new products could drive prices down in the near term, according to one industry watcher. Because ETFs don\\'t trade on weekends like the digital assets they hold, these products could lead to a larger \"pile-up of sell orders\" that could \"destabilize the market further,\" according to Noelle Acheson, writer of the Crypto Is Macro newsletter. Last week digital asset ETFs and other',\n",
       "  'Investing.com-- Bitcoin price fell on Monday, extending a sell-off seen over the weekend as sentiment towards crypto markets remained frail following a deep rout over the past month. Crypto saw some relief towards the end of last week, tracking a rebound in broader financial markets as investors bet that fears of a U.S. recession were overblown. But this notion ran out of steam over the weekend, with crypto tokens seeing extended selling in the past two days. Bitcoin fell 1.3% to $59,830.0 by 09:17 ET (13:17 GMT). Trading volumes were also somewhat muted on account of a Japanese market holiday. The world’s biggest cryptocurrency was rangebound between $50,000 and $60,000 over the past week, after sinking as low as $49,000 earlier. Sentiment towards risk-driven markets remained strained, especially in anticipation of key U.S. inflation data on Wednesday, which is set to offer more cues on the Federal Reserve’s plans for interest rate cuts. While stock markets saw some recovery in recent sessions, with Asian shares advancing on Monday, crypto lagged this rebound, given the market’s more speculative nature. Some resilience in the dollar also weighed, with the greenback seeing inflows as traders positioned for Wednesday’s inflation reading. The reading is expected to show inflation cooled further in July, giving the Fed more confidence to begin cutting interest rates. Broader crypto markets saw mixed, mostly flat performance on Monday, as selling in Bitcoin weighed on risk sentiment. World no.2 token Ether added 2.4% to $2,688.56 XRP rose marginally to $0.57, steadying following a strong rally last week. XRP issuer Ripple Labs was ordered to pay a fraction of the penalties sought by the Securities and Exchange Commission for illegal sale of securities by the firm. But the case still did not provide any regulatory clarity on whether crypto tokens were considered as securities. Among other altcoins, ADA and SOL slid 1% and 1.2%, respectively. Memetokens SHIB and DOGE traded relatively flat. In other crypto developments, USDT issuer Tether has strongly pushed back against a lawsuit filed by Celsius Network, dismissing it as a \"shakedown\" and \"baseless.\" The suit, filed on August',\n",
       "  \"Bitcoin is currently in a lull between narratives. The excitement and speculation and fast pace of inflows from the launch of the ETFs has subsided. Not much good news is on the horizon, perhaps until the U.S. election in November. In between, it seems BTC mostly faces crypto and macro headwinds. In June, BTC nearly reached all-time highs before higher-than-expected non-farm payroll jobs data sent prices tumbling to $58,000, despite lower inflation numbers. The start of the distribution of Mt. Gox’s $9 billion BTC and the German government's sale of seized BTC saw BTC reach as low as about $54,000, but has now rebounded to the low 60ks. Once Mt. Gox distributions are complete over the next few months, it will remove a significant price risk. Despite these negative factors, BTC has shown resilience. The next potential catalyst is the ETH ETF approval. With less liquidity than BTC, strong inflows could drive ETH higher, though a supply overhang like BTC’s might occur. Politically, we have seen Donald Trump include positive comments about BTC and digital assets in his regular stump speech, taking an America-first stance, aiming to keep jobs and wealth here in the U.S. If Trump is re-elected, the price of BTC is likely to benefit (even though the shape of a Trump Administration’s policy on digital assets is unclear). It’s possible we may see speculative buying leading up to election day as well – a positive narrative on the horizon. Lastly, we saw a number of major central banks cut rates in June, including Canada and the E.U. As one of the greatest correlates to BTC price is global M2 liquidity, these rate cuts suggest that the trending increase in global liquidity is moving in a beneficial direction. At the start of June, BTC nearly hit all-time highs before tailwinds pushed it down to June range lows. Despite lower-than-expected PPI, the market showed signs of buyer fatigue. Later, Mt. Gox announced BTC distributions to creditors in July, and the German government sold seized BTC, causing prices to dip below $60,000. ETH remained more resilient but still down from\",\n",
       "  'Thank you for your patience. Our engineers are working quickly to resolve the issue.',\n",
       "  'Thank you for your patience. Our engineers are working quickly to resolve the issue.',\n",
       "  'Thank you for your patience. Our engineers are working quickly to resolve the issue.'],\n",
       " 'ETH': [\"Solana (SOL) has reached an all-time high against Ethereum (ETH) as of August 7, with traders anticipating a potential surge to $200, a level last reached on March 18. SOL's price against ETH hit 0.06211, highlighting Solana’s stronger price performance against Ethereum in recent days. Source: CoinMarketCap, TradingView Trader Duo Nine highlighted a possible breakout on the weekly chart, noting a cup-and-handle pattern forming. He suggested that if Ethereum remains unchanged, Solana could continue its upward trajectory. Analytics resource Santiment pointed out on X that Solana is a “sentiment driven cryptocurrency,” and could continue to rise if market sentiment remains skeptical. In recent days, Solana has outperformed most cryptocurrencies, gaining over 15% against Bitcoin (BTC) since the lows of August 4-5. The possibility of SOL reaching $200 is supported by a bullish pennant pattern on the four-hour chart, as shared by crypto trader Satoshi Flipper. Other analysts, like ZAYK Charts, also see a bullish pennant on the three-day chart, predicting an imminent breakout if SOL “can get a higher timeframe (HTF) close above $148.” Despite these gains, Solana's price remains 40% below its all-time high of $260 from November 2021. Currently, SOL has risen 4% in the past 24 hours to $155 and is down only 8.8% over the past 7 days after recovering sharply from Monday’s market rout. Sign in to access your portfolio\",\n",
       "  'Thank you for your patience. Our engineers are working quickly to resolve the issue.',\n",
       "  'Thank you for your patience. Our engineers are working quickly to resolve the issue.',\n",
       "  'Thank you for your patience. Our engineers are working quickly to resolve the issue.',\n",
       "  \"There are quite literally thousands of options for investors looking to add crypto exposure to their portfolios. However, the harsh reality is that the overwhelming majority of those options likely won't be worth much in the future. But the ones that do have long-term potential could produce gains that only cryptocurrencies have been known to generate. If you're looking for the ultimate cryptocurrency in which to invest $1,000 in August, look no further than Ethereum (CRYPTO: ETH) for these three reasons. Ethereum boasts one of the most expansive and diverse ecosystems in all of crypto. It is the undisputed leader of one of crypto's most innovative and prominent use cases: Decentralized finance (DeFi). DeFi, collectively worth more than $80 billion, has come a long way from its humble beginnings as a niche experiment. As one of the first DeFi-capable blockchains, Ethereum was an early leader in the space, yet it hasn't relinquished its control. Today, Ethereum remains the home of DeFi's most noteworthy players, supporting more than 50% of the total DeFi market value. While it may seem like Ethereum faces stiff competition from other blockchains vying for a slice of the DeFi pie, this couldn't be further from the truth. A couple of years ago, such claims might have held some merit due to Ethereum's slower speeds and higher transaction fees. However, the advent of Layer 2 solutions has transformed the landscape. Layer 2 blockchains, like Polygon, Arbitrum, Optimism, and Base, inherit Ethereum's robust decentralization and security while providing faster transactions and lower costs. This development effectively extends Ethereum's reach across the crypto space, solidifying its position as the go-to platform for innovation and experimentation. In a significant milestone, Ethereum recently followed in Bitcoin's (CRYPTO: BTC) footsteps by becoming the second cryptocurrency to receive approval for a spot exchange-traded fund (ETF). A spot ETF is similar to a gold ETF, allowing investors to gain exposure to the asset's price movements without actually owning the underlying asset. This is a crucial development, as it democratizes access for retail and institutional investors alike, making it easier for a broader audience to\",\n",
       "  'A wallet supposedly tied to Jump Trading moves $29 million in ether, preparing for potential sales. The wallet still holds over 16,000 ETH, according to Spot On Chain. A wallet tagged as belonging to trading giant Jump Trading moved large amounts of ether {{ETH}} on-chain as the second-largest cryptocurrency recovered from Monday\\'s crypto-market rout. According to blockchain sleuth Spot On Chain, the wallet unstaked 11,500 ether, worth $29 million, from liquid-staking service Lido Finance and moved the coins to an address labeled Jump Trading 0xf58: 0xf584f8728b874a6a5c7a8d4d387c9aae9172d621. The Chicago-based company has previously used that address to transfer coins to centralized crypto exchanges, a move often associated with an intention to sell or liquidate holdings in the market. \"Note that the 11,500 ETH has been transferred to the wallet \\'0xf58\\' which they often use to deposit ETH to CEX,\" Spot On Chain posted on X. \"Currently, Jump Trading still holds 21,394 WSTETH ($63.6M) and 16,292 ETH ($41.3M) in the wallets and has 19,049 STETH under the unstaking process from Lido.\" On Sunday, a wallet said to belong to the firm moved $46 million worth of ether to centralized exchanges, deepening ether\\'s sell-off set in motion by macroeconomic developments. Ether, priced at $2,900 early Sunday, fell to almost $2,100 on Monday, CoinDesk data show. \"The selloff was exacerbated by crypto-specific catalysts, such as the unwinding of Jump Trading’s crypto portfolio following its CFTC probe, adding to the ongoing but subsiding supply overhangs from Mt.Gox creditor repayments and GBTC & ETHE outflows. Jump Crypto’s liquidations over the past two weeks stem predominantly from ETH, with deposits to exchanges rising to levels last seen during the FTX collapse,\" Coin Metrics said in a newsletter Tuesday. The ether price has regained some poise since Monday, bouncing to over $2,400, tracking recovery in market leader bitcoin and signs of a risk-reset in traditional markets. Sign in to access your portfolio',\n",
       "  '© 2024 - Privacy - Terms',\n",
       "  'Thank you for your patience. Our engineers are working quickly to resolve the issue.',\n",
       "  'Thank you for your patience. Our engineers are working quickly to resolve the issue.',\n",
       "  'ETH\\'s price drops to lowest since January. A wallet supposedly associated with Jump Trading moved 17,576 ETH to centralized exchanges, according to Spot On Chain. Ether\\'s {{ETH}} price cratered as a prominent crypto trading firm moved large amounts of ETH to centralized exchanges in preparation for potential liquidation. Ethereum\\'s native token, the second-largest cryptocurrency by market value, has dropped 20% in 24 hours, hitting a seven-month low of under $2,100 during Monday\\'s Asian hours, according to CoinDesk data. In the past 24 hours, a wallet identified as Chicago-based trading heavyweight Jump Trading by onchain sleuth Spot On Chain transferred 17,576 ETH worth over $46 million to centralized exchanges. In June, reports emerged that Jump Trading was being probed by the CFTC. The wallet has moved nearly 90,000 ETH to exchanges since July 25 and still holds 37,600 wstETH and 11,500 stETH at press time. wstETH is the DeFi-compatible version of Lido\\'s staked ether (stETH). \"The reason for the crazy crypto sell-off seems to be Jump Trading, who are either getting margin called in the traditional markets and need liquidity over the weekend, or they are exiting the crypto business due to regulatory reasons (Terra Luna related),\" Dr. Julian Hosp, CEO and co-founder of decentralized platform Cake Group said on X. The supposed liquidation over Sunday and early Monday has drawn the crypto community\\'s ire. The said time frame is generally characterized by weak liquidity or the ability of the market to absorb large orders at stable prices.  Sign in to access your portfolio',\n",
       "  'Thank you for your patience. Our engineers are working quickly to resolve the issue.']}"
      ]
     },
     "execution_count": 12,
     "metadata": {},
     "output_type": "execute_result"
    }
   ],
   "source": [
    "articles = {ticker: scrape(cleanURLS[ticker]) for ticker in tickers}\n",
    "articles"
   ]
  }
 ],
 "metadata": {
  "kernelspec": {
   "display_name": "base",
   "language": "python",
   "name": "python3"
  },
  "language_info": {
   "codemirror_mode": {
    "name": "ipython",
    "version": 3
   },
   "file_extension": ".py",
   "mimetype": "text/x-python",
   "name": "python",
   "nbconvert_exporter": "python",
   "pygments_lexer": "ipython3",
   "version": "3.11.7"
  }
 },
 "nbformat": 4,
 "nbformat_minor": 2
}
