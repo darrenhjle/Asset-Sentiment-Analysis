{
 "cells": [
  {
   "cell_type": "markdown",
   "metadata": {},
   "source": [
    "## Importing Libraries"
   ]
  },
  {
   "cell_type": "code",
   "execution_count": 4,
   "metadata": {},
   "outputs": [],
   "source": [
    "from transformers import pipeline, AutoTokenizer, TFAutoModelForSeq2SeqLM\n",
    "from bs4 import BeautifulSoup\n",
    "import tf_keras as keras\n",
    "import re\n",
    "import requests"
   ]
  },
  {
   "cell_type": "markdown",
   "metadata": {},
   "source": [
    "## Initializing Tokenizer, Summarizer and Sentiment Analysis models"
   ]
  },
  {
   "cell_type": "code",
   "execution_count": 5,
   "metadata": {},
   "outputs": [
    {
     "name": "stdout",
     "output_type": "stream",
     "text": [
      "WARNING:tensorflow:From C:\\Users\\79860\\AppData\\Roaming\\Python\\Python311\\site-packages\\tf_keras\\src\\backend.py:873: The name tf.get_default_graph is deprecated. Please use tf.compat.v1.get_default_graph instead.\n",
      "\n"
     ]
    },
    {
     "name": "stderr",
     "output_type": "stream",
     "text": [
      "All PyTorch model weights were used when initializing TFPegasusForConditionalGeneration.\n",
      "\n",
      "Some weights or buffers of the TF 2.0 model TFPegasusForConditionalGeneration were not initialized from the PyTorch model and are newly initialized: ['model.encoder.embed_positions.weight', 'model.decoder.embed_positions.weight']\n",
      "You should probably TRAIN this model on a down-stream task to be able to use it for predictions and inference.\n"
     ]
    }
   ],
   "source": [
    "# Initialize the tokenizer for the financial summarization model\n",
    "tokenizer = AutoTokenizer.from_pretrained(\"human-centered-summarization/financial-summarization-pegasus\")\n",
    "\n",
    "# Initialize the summarization model\n",
    "summarizer = TFAutoModelForSeq2SeqLM.from_pretrained(\"human-centered-summarization/financial-summarization-pegasus\")\n",
    "\n",
    "# Initialize the sentiment analysis pipeline using the FinBERT model\n",
    "sentiment_analysis = pipeline(\"sentiment-analysis\", model=\"yiyanghkust/finbert-tone\")"
   ]
  },
  {
   "cell_type": "code",
   "execution_count": 6,
   "metadata": {},
   "outputs": [],
   "source": [
    "# Initialize the tickers to be used in the sentiment analysis\n",
    "# Using the top 2 cryptocurrencies as an example\n",
    "tickers = ['BTC', 'ETH']"
   ]
  },
  {
   "cell_type": "markdown",
   "metadata": {},
   "source": [
    "## Search news URL method"
   ]
  },
  {
   "cell_type": "code",
   "execution_count": 7,
   "metadata": {},
   "outputs": [],
   "source": [
    "# Function to find news articles for a given ticker\n",
    "def search_for_news_urls(ticker):\n",
    "    # Construct the Google search URL for Yahoo Finance news related to the ticker\n",
    "    search_url = f\"https://www.google.com/search?q=yahoo+finance+{ticker}&tbm=nws\"\n",
    "    \n",
    "    # Make a request to the search URL\n",
    "    response = requests.get(search_url)\n",
    "    \n",
    "    # Parse the HTML content of the response\n",
    "    soup = BeautifulSoup(response.text, 'html.parser')\n",
    "    \n",
    "    # Find all anchor tags in the parsed HTML content\n",
    "    anchor_tags = soup.find_all('a')\n",
    "    \n",
    "    # Extract the href attributes from the anchor tags\n",
    "    hrefs = [link['href'] for link in anchor_tags]\n",
    "    \n",
    "    return hrefs"
   ]
  },
  {
   "cell_type": "code",
   "execution_count": 8,
   "metadata": {},
   "outputs": [
    {
     "data": {
      "text/plain": [
       "dict_keys(['BTC', 'ETH'])"
      ]
     },
     "execution_count": 8,
     "metadata": {},
     "output_type": "execute_result"
    }
   ],
   "source": [
    "# Create a dictionary where each ticker is mapped to its corresponding news article URLs\n",
    "# The search_for_news_urls function is called for each ticker to get the news URLs\n",
    "raw = {ticker: search_for_news_urls(ticker) for ticker in tickers}\n",
    "\n",
    "# Display the keys of the raw dictionary, which are the tickers\n",
    "raw.keys()"
   ]
  },
  {
   "cell_type": "markdown",
   "metadata": {},
   "source": [
    "## Cleaning Up URLs"
   ]
  },
  {
   "cell_type": "code",
   "execution_count": 9,
   "metadata": {},
   "outputs": [],
   "source": [
    "# List of words to exclude\n",
    "exclude = [\n",
    "    'maps',\n",
    "    'policies', \n",
    "    'preferences', \n",
    "    'accounts', \n",
    "    'support'\n",
    "]\n",
    "\n",
    "# Function to filter out unwanted URLs based on the list of excluded words\n",
    "# @param urls: List of URLs to filter\n",
    "# @param excludeList: List of words to exclude from URLs\n",
    "# @return: List of filtered URLs\n",
    "def filter(urls, excludeList):\n",
    "    filtered_urls = []\n",
    "    for url in urls:\n",
    "        # Check if the URL starts with 'https://' and does not contain any excluded words\n",
    "        if 'https://' in url and not any(word in url for word in excludeList):\n",
    "            # Extract the URL up to the first '&' character\n",
    "            cleaned_url = re.findall(r'(https?://\\S+)', url)[0].split('&')[0]\n",
    "            filtered_urls.append(cleaned_url)\n",
    "    # Remove duplicates by converting the list to a set and back to a list\n",
    "    return list(set(filtered_urls))"
   ]
  },
  {
   "cell_type": "code",
   "execution_count": 10,
   "metadata": {},
   "outputs": [
    {
     "data": {
      "text/plain": [
       "{'BTC': ['https://sg.finance.yahoo.com/news/bitcoins-double-top-suggests-btc-062739635.html',\n",
       "  'https://finance.yahoo.com/news/bitcoin-signals-potential-bottom-market-053052099.html',\n",
       "  'https://www.google.com/search?q%3Dyahoo%2Bfinance%2BBTC%26tbm%3Dnws%26pccc%3D1',\n",
       "  'https://finance.yahoo.com/video/bitcoin-back-below-60k-look-133426663.html',\n",
       "  'https://sg.finance.yahoo.com/news/48-singapore-crypto-investors-double-130000395.html',\n",
       "  'https://finance.yahoo.com/news/bitcoin-is-having-its-worst-week-since-the-fall-of-ftx-153406320.html',\n",
       "  'https://finance.yahoo.com/news/bitcoin-price-today-down-58k-062123138.html',\n",
       "  'https://sg.finance.yahoo.com/news/bitcoin-summer-2024-expect-153233549.html',\n",
       "  'https://sg.finance.yahoo.com/news/bitcoin-could-reach-high-us-023053354.html',\n",
       "  'https://finance.yahoo.com/video/bitcoin-rebound-markets-recover-market-215949834.html',\n",
       "  'https://sg.finance.yahoo.com/news/bitcoin-halving-prices-another-high-074351948.html'],\n",
       " 'ETH': ['https://finance.yahoo.com/news/solana-reaches-high-against-ethereum-062439434.html',\n",
       "  'https://finance.yahoo.com/news/spot-ethereum-etfs-receive-inflows-221707679.html',\n",
       "  'https://finance.yahoo.com/video/stocks-little-changed-investors-await-173336341.html',\n",
       "  'https://sg.finance.yahoo.com/news/bitcoins-smarter-brother-octas-guide-020000956.html',\n",
       "  'https://finance.yahoo.com/news/3-reasons-ultimate-cryptocurrency-buy-080100540.html',\n",
       "  'https://finance.yahoo.com/news/jump-trading-allegedly-moves-29m-104938115.html',\n",
       "  'https://www.google.com/search?q%3Dyahoo%2Bfinance%2BETH%26tbm%3Dnws%26pccc%3D1',\n",
       "  'https://finance.yahoo.com/video/crypto-market-rebounds-global-sell-150121276.html',\n",
       "  'https://finance.yahoo.com/news/3-crypto-stocks-watch-ethereum-115600602.html',\n",
       "  'https://sg.finance.yahoo.com/news/ether-slides-20-trading-firm-050241805.html',\n",
       "  'https://sg.finance.yahoo.com/news/blackrock-seeing-only-little-bit-160509328.html']}"
      ]
     },
     "execution_count": 10,
     "metadata": {},
     "output_type": "execute_result"
    }
   ],
   "source": [
    "# Clean the URLs for each ticker by removing unwanted URLs based on the exclude list\n",
    "# This creates a dictionary where each ticker is mapped to a list of cleaned URLs\n",
    "cleanURLS = {ticker: filter(raw[ticker], exclude) for ticker in raw.keys()}\n",
    "\n",
    "# Display the cleaned URLs for each ticker\n",
    "cleanURLS"
   ]
  },
  {
   "cell_type": "markdown",
   "metadata": {},
   "source": [
    "## Scraping content"
   ]
  },
  {
   "cell_type": "code",
   "execution_count": 14,
   "metadata": {},
   "outputs": [],
   "source": [
    "import time\n",
    "import random\n",
    "\n",
    "# Function to scrape articles from a list of URLs\n",
    "# @param urls: List of URLs to scrape\n",
    "# @return: List of articles' text content\n",
    "def scrape(urls):\n",
    "    articles = []\n",
    "    \n",
    "    # Define the header to mimic a browser request\n",
    "    header = {'User-Agent': 'Mozilla/5.0 (Windows NT 10.0; Win64; x64) AppleWebKit/537.36 (KHTML, like Gecko) Chrome/58.0.3029.110 Safari/537.3'}\n",
    "    \n",
    "    for url in urls:\n",
    "        # Delay between requests for a random amount of time (1 to 5 seconds) to reduce the chances of being blocked\n",
    "        time.sleep(random.randint(1, 5))\n",
    "        \n",
    "        # Make a request to the URL with the defined header\n",
    "        response = requests.get(url, headers=header)\n",
    "        \n",
    "        # Parse the HTML content of the response\n",
    "        soup = BeautifulSoup(response.text, 'html.parser')\n",
    "        \n",
    "        # Find all paragraph tags in the parsed HTML content\n",
    "        paragraphs = soup.find_all('p')\n",
    "        \n",
    "        # Extract the text from each paragraph and join them into a single string\n",
    "        text = [paragraph.text for paragraph in paragraphs]\n",
    "        \n",
    "        # Limit the text to the first 350 words for summarization\n",
    "        words = ' '.join(text).split(' ')[:350]\n",
    "        article = ' '.join(words)\n",
    "        \n",
    "        # Append the cleaned article text to the articles list\n",
    "        articles.append(article)\n",
    "    \n",
    "    return articles"
   ]
  },
  {
   "cell_type": "code",
   "execution_count": 15,
   "metadata": {},
   "outputs": [
    {
     "data": {
      "text/plain": [
       "{'BTC': ['The U.S. election and CPI could be a bullish factor later this year. Fed\\'s preferred inflation gauge, the PCE price index, due Friday, could offer relief. Bitcoin {{BTC}} has carved out a double-top price pattern, signaling a potential bearish trend change ahead of key data release that could influence the Fed\\'s interest rate path. Bitcoin\\'s price journey has been a rollercoaster this month. After surging to nearly $70,000, approaching the all-time high of March, it has now retreated to $63,000, decoupling from Nasdaq\\'s continued move higher, largely due to faster selling by miners, profit-taking by investors near lifetime highs, and outflows from the U.S.-listed spot exchange-traded funds. The price action has formed a double top, a bearish technical analysis pattern comprising two peaks with a valley in the middle, usually appearing after a notable uptrend. The second peak represents uptrend exhaustion, with the eventual breach of the low hit between the two peaks confirming a bearish trend change. \"Technically, bitcoin appears to follow a double top formation, whereas the support level is being tested. This chart formation should be our base case unless it becomes invalidated. This formation could easily see a drop to $50,000—if not $45,000,\" Markus Thielen, founder of 10x Research, said. \"Yes, the U.S. election and CPI should be bullish later this year, but we can still have a steeper correction,\" Thielen added. However, the Fed\\'s preferred inflation yardstick, the personal consumption expenditures (PCE) price index for May, is expected to show the slowest monthly advance in the core figure in over three years. That would cement the case for renewed Fed rate cuts from September, potentially putting a floor under risk assets, including bitcoin. \"[Recent] Strong economic data has forced [bond] yields higher and precious metals lower on Friday. This continues to stand in the way of digital hard assets like crypto,\" Greg Magadini, director of derivatives at Amberdata, said in the weekly newsletter shared with CoinDesk. \"This week we have multiple Fed Governors speaking, GDP and most importantly PCE on Friday (the Fed’s favorite inflation indicator),\" Magadini added. Economists surveyed by Bloomberg expect no change',\n",
       "  'According to recent analysis on CryptoQuant, Bitcoin (BTC) is showing signs of hitting a \"local bottom\" in the recent early August sell-off. An insight posted on the on-chain analytics platform highlighted bullish signals from the network value to transaction golden cross (NVT-GC) tool, suggesting room for growth. Despite recent warnings of a potential breakdown in BTC/USD, the NVT-GC tool, akin to Bollinger Bands, indicates a possible rebound. This metric compares Bitcoin\\'s market cap to transaction value over time, identifying local market tops and bottoms. CryptoQuant contributor Burakkesmeci explained that if the NVT-GC rises above 2.2 points, it signals an overheated price, while a drop below -1.6 points suggests excessive cooling and a local bottom. Currently, the tool indicates a local bottom, similar to signals on January 18 and July 12, which preceded price gains of 78% and 23%, respectively. BTC is currently trading at $58,681, down 3.8% over the past 24 hours after having lost the $60,000 level. However, Bitcoin gained 7.58% over the past 7 days after a strong recovery from the lows of $49,500. Sign in to access your portfolio',\n",
       "  '© 2024 - Privacy - Terms',\n",
       "  \"Bitcoin prices (BTC-USD) fell back below $60,000 over the weekend, floating above $59,000 as of Monday morning. Yahoo Finance markets and data editor Jared Blikre provides a timeline of bitcoin's volatility and spot bitcoin ETF inflows from the past several trading months. For more expert insight and the latest market action, click here to watch this full episode of Morning Brief. This post was written by Luke Carberry Mogan. Sign in to access your portfolio\",\n",
       "  \"Almost half (48%) of those surveyed believe a Bitcoin will be worth between $50,000 and $100,000 by 2030. Against the backdrop of the upcoming Bitcoin halving event in April, 48% of Singapore crypto investors will continue to double down on Bitcoin over the next 12 months, according to the 2024 Independent Reserve Cryptocurrency Index (IRCI). Those who hold more than 50% of their portfolio in crypto are the most likely to increase their Bitcoin holdings, the study found. Fueled by recent industry developments such as the approval of spot Bitcoin exchange-traded funds (ETFs) in the US, 39% of Singaporeans now view Bitcoin more favourably. More than half (51%) are aware of the US Securities and Exchange Commission's approval of spot Bitcoin ETFs, and 33% are open to investing through an overseas offering given that the product is not available to retail investors in Singapore. “The long-awaited arrival of the spot Bitcoin ETFs has supercharged the demand side for Bitcoin as billions of dollars from institutions has poured in. The trust and understanding of Bitcoin have grown significantly over the past few years, and more Singaporeans are increasing their allocations,” says Independent Reserve Singapore CEO Lasanka Perera. That said, 75% of Singaporeans prefer investing directly in Bitcoin through a cryptocurrency exchange rather than through a Bitcoin ETF offering due to lower fees and wider range of trading options. Singapore scored 56 on the IRCI this year — up one point from 2023 —\\xa0reflecting a positive shift in public perception towards cryptocurrency. While overall awareness and ownership might have dipped slightly, other key metrics indicate a growing sense of confidence and optimism in the market. This year, the IRCI found that Singaporean investors are more sophisticated on various fronts. Majority (52%) have been in the market for more than three years and hold increasingly diverse portfolios, as investors are increasingly holding six or more different cryptocurrencies. Despite the ups and downs in market cycles, Singapore crypto investors are more certain about their plans for the next 12 months. Over half (53%) are going to invest more into their existing portfolio, while 45%\",\n",
       "  'Bitcoin (BTC-USD) rose 5% on Tuesday, rebounding slightly after experiencing its worst week since the the collapse of Sam Bankman Fried’s FTX cryptocurrency exchange in November 2022. The world’s largest cryptocurrency fell 20% over the last week, hitting its lowest levels Sunday and early Monday morning amid a wider correction across financial markets. Bitcoin\\'s price briefly tumbled below $50,000 to its lowest price since February. It has lost more than $13,000 in value over the last seven days. Ether (ETH-USD), the second-largest cryptocurrency, absorbed even heavier losses. It fell 27% over the last seven days, briefly seeing its biggest single-day drop since late 2021. The crypto sell-off comes after a series of events that gave investors new hope that a bull market in digital assets could just be getting started and that the industry was past a severe 2022 meltdown that took down some of the biggest players, including FTX. In fact, just two weeks ago bitcoin was within striking distance of an all-time high of $74,000 set in March as former President Donald Trump prepared to speak at a bitcoin conference in Nashville. The stamp of approval from the Republican presidential nominee had many in the industry hyped about a friendlier regulatory approach from Washington, D.C., in 2025 and beyond. Investors were also excited about Securities and Exchange Commission approvals for big money managers to issue new exchange-traded funds that hold ether — one of the latest example of how Wall Street is embracing cryptocurrencies. Those ETFs could make ether a potential staple in 401(k)s, IRAs, and pension plans and grant the digital asset more mainstream acceptance. Many of the same money managers that received SEC approval already had ETFs that invest directly in bitcoin. But these new products could drive prices down in the near term, according to one industry watcher. Because ETFs don\\'t trade on weekends like the digital assets they hold, these products could lead to a larger \"pile-up of sell orders\" that could \"destabilize the market further,\" according to Noelle Acheson, writer of the Crypto Is Macro newsletter. Last week digital asset ETFs and other',\n",
       "  'Investing.com-- Bitcoin price fell on Monday, extending a sell-off seen over the weekend as sentiment towards crypto markets remained frail following a deep rout over the past month. Crypto saw some relief towards the end of last week, tracking a rebound in broader financial markets as investors bet that fears of a U.S. recession were overblown. But this notion ran out of steam over the weekend, with crypto tokens seeing extended selling in the past two days. Bitcoin fell 1.3% to $59,830.0 by 09:17 ET (13:17 GMT). Trading volumes were also somewhat muted on account of a Japanese market holiday. The world’s biggest cryptocurrency was rangebound between $50,000 and $60,000 over the past week, after sinking as low as $49,000 earlier. Sentiment towards risk-driven markets remained strained, especially in anticipation of key U.S. inflation data on Wednesday, which is set to offer more cues on the Federal Reserve’s plans for interest rate cuts. While stock markets saw some recovery in recent sessions, with Asian shares advancing on Monday, crypto lagged this rebound, given the market’s more speculative nature. Some resilience in the dollar also weighed, with the greenback seeing inflows as traders positioned for Wednesday’s inflation reading. The reading is expected to show inflation cooled further in July, giving the Fed more confidence to begin cutting interest rates. Broader crypto markets saw mixed, mostly flat performance on Monday, as selling in Bitcoin weighed on risk sentiment. World no.2 token Ether added 2.4% to $2,688.56 XRP rose marginally to $0.57, steadying following a strong rally last week. XRP issuer Ripple Labs was ordered to pay a fraction of the penalties sought by the Securities and Exchange Commission for illegal sale of securities by the firm. But the case still did not provide any regulatory clarity on whether crypto tokens were considered as securities. Among other altcoins, ADA and SOL slid 1% and 1.2%, respectively. Memetokens SHIB and DOGE traded relatively flat. In other crypto developments, USDT issuer Tether has strongly pushed back against a lawsuit filed by Celsius Network, dismissing it as a \"shakedown\" and \"baseless.\" The suit, filed on August',\n",
       "  \"Bitcoin is currently in a lull between narratives. The excitement and speculation and fast pace of inflows from the launch of the ETFs has subsided. Not much good news is on the horizon, perhaps until the U.S. election in November. In between, it seems BTC mostly faces crypto and macro headwinds. In June, BTC nearly reached all-time highs before higher-than-expected non-farm payroll jobs data sent prices tumbling to $58,000, despite lower inflation numbers. The start of the distribution of Mt. Gox’s $9 billion BTC and the German government's sale of seized BTC saw BTC reach as low as about $54,000, but has now rebounded to the low 60ks. Once Mt. Gox distributions are complete over the next few months, it will remove a significant price risk. Despite these negative factors, BTC has shown resilience. The next potential catalyst is the ETH ETF approval. With less liquidity than BTC, strong inflows could drive ETH higher, though a supply overhang like BTC’s might occur. Politically, we have seen Donald Trump include positive comments about BTC and digital assets in his regular stump speech, taking an America-first stance, aiming to keep jobs and wealth here in the U.S. If Trump is re-elected, the price of BTC is likely to benefit (even though the shape of a Trump Administration’s policy on digital assets is unclear). It’s possible we may see speculative buying leading up to election day as well – a positive narrative on the horizon. Lastly, we saw a number of major central banks cut rates in June, including Canada and the E.U. As one of the greatest correlates to BTC price is global M2 liquidity, these rate cuts suggest that the trending increase in global liquidity is moving in a beneficial direction. At the start of June, BTC nearly hit all-time highs before tailwinds pushed it down to June range lows. Despite lower-than-expected PPI, the market showed signs of buyer fatigue. Later, Mt. Gox announced BTC distributions to creditors in July, and the German government sold seized BTC, causing prices to dip below $60,000. ETH remained more resilient but still down from\",\n",
       "  \"Using gold as a proxy for Bitcoin suggests that the cryptocurrency's price will ultimately settle around US$200,000 by end-2025. Bitcoin could “overshoot” to a high of around US$250,000 ($334,411) in 2025 if exchange-traded fund (ETF) inflows continue apace, says Standard Chartered Bank’s head of FX research, west and digital assets research Geoff Kendrick. The same is likely to happen if reserve managers announce they have been buying Bitcoin, which Kendrick believes will ultimately settle around US$200,000 by end-2025, forming the new midpoint of a higher trading range. Rapid inflows to the new Bitcoin spot ETFs have dominated since the ETFs were launched on Jan 11, with net inflows exceeding increases in open interest. This means that while open interest measures are approaching stretched 2021 levels, overall positioning should be more sustainable this time, says Kendrick, adding that most of the inflows are likely to be sticky pension-type flows. Standard Chartered analysts have previously used gold as a proxy for the cryptocurrency to assess where Bitcoin prices might go based on exchange-traded flows, and have done the same in their latest projections. “We believe that both of these comparisons are still relevant and provide insights into how the Bitcoin price might develop,” says Kendrick, who has used three separate gold-based measures in his assessment. Earlier for gold and more recently for Bitcoin, exchange-traded products (ETPs) and ETFs allowed a new set of investors to gain access to a market that was previously underinvested, he explains. In gold’s case, it took several years for the ETP market to mature, during which time the gold price rose 4.3x. In the instance of Bitcoin, Kendrick predicts that the ETF market will mature much faster — in one to two years — but result in the same price multiple, forming the basis for his estimated price level of US$200,000 at end-2025. Secondly, using gold in the context of an optimised gold-Bitcoin two-asset portfolio also suggests a level around US$190,000, based on an optimised 80% gold and 20% Bitcoin portfolio at current gold prices. Finally, a linear extrapolation of the correlation between ETF inflows and the\",\n",
       "  'On today\\'s episode of Market Domination, Hosts Josh Lipton and Madison Mills break down some of the biggest stories dominating the trading week, from Monday\\'s global market sell-off to concerns of a recession. US equities (^GSPC, ^DJI, ^IXIC) were on a roller coaster ride this week, with a large sell-off on Monday and a bit of a recovery on Thursday. Janney Montgomery Scott chief investment strategist Mark Luschini explains, \"Collectively, I think we\\'re ending kind of where we\\'re beginning, which is to say, the economy continues to look like it\\'s in pretty good shape. The Atlanta Fed GDP Now tracker is coming in at 2.9% for activity here, so far into the third quarter, which is a continuation of a reasonably good economic climate that should be fertile for stocks.\" He expects more volatility over the next couple of months, but notes that the current economic data remains \"relatively healthy.\" Bitcoin (BTC-USD) is recouping some of the losses it faced during the global market sell-off earlier in the week. MicroStrategy (MSTR) executive chairman Michael Saylor says, \"Bitcoin is the only truly global capital market in the world, and so if you think about the volatility of it, the volatility is the price that you pay in order to create billions of dollars of credit and liquidity at your fingertips, all times, everywhere for everybody. And so on Sunday night, all the other capital markets are closed. Bitcoin is the only capital market that\\'s functioning. What you saw over the past week is that it\\'s functioning really, really well. And that is the secret to the success of the asset class.\" Shares of Zillow (Z) are rising after the company posted its latest quarterly results, beating analyst estimates on both the top and bottom line while also naming a new CEO, Jeremy Wacksman, who previously served as the company\\'s COO. Zillow Group CEO Jeremy Wacksman outlines one strategy that is beginning to pay off for the company: \"We are investing pretty healthily in our housing super app strategy. We\\'ve been doing that for a few years now. You\\'re starting to see',\n",
       "  'The next Bitcoin halving is projected to take place this week, around 19 April 2024. This major event can drastically affect the price of Bitcoin.\\xa0 Whether you’re considering investing in Bitcoin or already hold some in your portfolio, pull up a chair. Here’s everything you need to know about Bitcoin halving. \\xa0 View this post on Instagram \\xa0 A post shared by MoneySmart.SG (@moneysmartsg) \\xa0 Before we discuss Bitcoin halving, we need to understand how Bitcoins are mined (the process by which new Bitcoins are generated). Miners tackle complex mathematical problems to confirm transactions on the blockchain. In doing so, they add new blocks to the Bitcoin network. The system rules ensure that each newly mined block introduces new bitcoins into circulation. Currently, the reward for mining 1 block on the Bitcoin network is 6.25 BTC. When Bitcoin halving occurs, this reward is cut in half. This means miners receive 50% fewer bitcoins (or 3.125 BTC) for their efforts. Bitcoin halving occurs roughly every four years (once every 210,000 blocks are mined). The event will continue until 21 million Bitcoins (the maximum supply) have been generated. Event Date Blocks mined Reward Introduction of Bitcoin 3 Jan 2009 0 50 Bitcoin 1st halving 28 Nov 2012 210,000 25 Bitcoin 2nd halving 9 Jul 2016 420,000 12.5 Bitcoin 3rd halving 11 May 2020 630,000 6.25 Bitcoin 4th halving ~ 19 Apr 2024 740,000 3.125 Bitcoin 5th halving ~ Apr 2028 850,000 1.5625 Bitcoin \\xa0 ALSO READ:\\xa0Gold Prices Hit Record High—How to Invest in Gold in Singapore (2024) \\xa0 Remember that when the halving event occurs, the reward for mining Bitcoin is reduced by 50%.\\xa0 Miners will be less incentivised to mine and generate new Bitcoins, slowing the rate at which new Bitcoins are issued into circulation. This creates scarcity, and when there’s scarcity, demand increases. Historically, whenever the halving event takes place, the\\xa0price of Bitcoin surges. Event Price at time of halving Following year’s peak 1st Halving $13 $1,152 (+8761%) 2nd Halving $664 $17,760 (+2574%) 3rd Halving $9,734 $67,549 (+594%) 4th Halving ~$63,198 ? Since Bitcoin’s inception, there have only been 3'],\n",
       " 'ETH': [\"Solana (SOL) has reached an all-time high against Ethereum (ETH) as of August 7, with traders anticipating a potential surge to $200, a level last reached on March 18. SOL's price against ETH hit 0.06211, highlighting Solana’s stronger price performance against Ethereum in recent days. Source: CoinMarketCap, TradingView Trader Duo Nine highlighted a possible breakout on the weekly chart, noting a cup-and-handle pattern forming. He suggested that if Ethereum remains unchanged, Solana could continue its upward trajectory. Analytics resource Santiment pointed out on X that Solana is a “sentiment driven cryptocurrency,” and could continue to rise if market sentiment remains skeptical. In recent days, Solana has outperformed most cryptocurrencies, gaining over 15% against Bitcoin (BTC) since the lows of August 4-5. The possibility of SOL reaching $200 is supported by a bullish pennant pattern on the four-hour chart, as shared by crypto trader Satoshi Flipper. Other analysts, like ZAYK Charts, also see a bullish pennant on the three-day chart, predicting an imminent breakout if SOL “can get a higher timeframe (HTF) close above $148.” Despite these gains, Solana's price remains 40% below its all-time high of $260 from November 2021. Currently, SOL has risen 4% in the past 24 hours to $155 and is down only 8.8% over the past 7 days after recovering sharply from Monday’s market rout. Sign in to access your portfolio\",\n",
       "  \"Newly launched spot Ethereum ETFs generated inflows Monday, a rare bright spot on a day when risk-on assets, including cryptocurrencies, plunged. The positive flows occurred even as ether, the crypto that the spot Ethereum funds track, dropped more than 25% at one point Monday from the previous day, according to data from CoinMarketCap. It has recently recovered some of the lost ground to trade at about $2,500, up 4.5% from Monday, same time. The Ethereum ETFs recorded $48.8 million in inflows, according to data from U.K. asset manager Farside Investors. BlackRock’s iShares Ethereum Trust (ETHA) led the pack with $47.1 million in inflows. VanEck Ethereum ETF (ETHV) and Fidelity Ethereum Fund (FETH) each pulled in about $16 million. The Grayscale Ethereum Mini Trust (ETH) saw inflows of $7.6 million. The nine spot Ethereum ETFs debuted on July 23—the second group of funds based on the ongoing price of a major cryptocurrency. Spot Bitcoin ETFs started trading on Jan. 11 following nearly a decade of resistance by the Securities and Exchange Commission (SEC) to such products.  Ether is second largest cryptocurrency by market capitalization with a roughly $300 billion market capitalization. Bitcoin has a more than $1.1 trillion market cap, according to CoinMarketCap. The Grayscale Ethereum Trust (ETHE) had $46.8 million in outflows, the only product to experience outflows on Monday. The fund differs from the other spot Ethereum funds because it is a conversion from an existing trust and carries the highest expense ratio, 2.5%. Spot Ethereum ETFs have recorded net outflows of $462.4 million in their nearly two weeks of trading, as ETHE's over $2.1 billion in outflows have outpaced inflows to the other spot Ethereum funds. Still, the funds' debut has been considered largely a success. A market downturn tied to fresh angst over a potential U.S. recession and other macroeconomic uncertainties caused all three major indices to sink and tech and consumer discretionary ETFs to slump on Monday. The S&P 500 and tech-heavy Nasdaq dropped 3% and 3.4%, respectively. Spot Bitcoin ETFs on Monday generated $168.4 million in net outflows, according to Farside. The Grayscale Bitcoin\",\n",
       "  'The three major averages (^DJI, ^IXIC, ^GSPC) are relatively flat with investors seemingly waiting to hear what Nvidia (NVDA) reveals when it posts its first-quarter results after the market close on Wednesday. One space that is seeing a lot of action is crypto. Ethereum (ETH-USD) is soaring on hopes an ether ETF could be approved. The action is providing a slight boost to bitcoin (BTC-USD) prices too. Other trending tickers on Yahoo Finance include Palo Alto Networks (PANW), XPeng (XPEV), and Trump Media & Technology Group (DJT). Top guests today include: 3:15 p.m. ET - Matt Hougan, Bitwise CIO 3:45 p.m. ET - Jason Gursky, Citi Managing Director, Aerospace and Defense Lead Analyst, and Ron Epstein, BofA Securities Senior Aerospace and Defense Analyst 4:15 p.m. ET - Mark Zagorski, DoubleVerify CEO 4:30 p.m. ET - Dan Niles, Niles Investment Management Founder and Portfolio Manager Sign in to access your portfolio',\n",
       "  \"KUALA LUMPUR, MALAYSIA - Media OutReach Newswire - 31 May 2024 - With the current capitalisation of 468.42 billion USD, Ethereum (ETH) is the second-largest cryptocurrency network by market capitalisation after Bitcoin. As many experts point out, Ethereum is well-positioned to remain a crypto powerhouse for many years to come. What makes this digital asset so unique, and what drove its robust growth over the recent years? In this article, the experts at Octa, a financial broker with globally recognised licences, give a rundown of the ETH's impressive ascent in the world of cryptocurrencies.    In the week ending on 26 May, the price of Ethereum (ETH) gained nearly 25%, rising as high as 3,900 USD. The 4,000 USD price mark, crossed last in March, is clearly in sight after the US Securities and Exchange Commission approved the listing and trading of spot Ethereum exchange-traded funds (ETFs). In the long-term perspective, the situation also looks highly promising for the ETH ecosystem as its prospects are buoyed by the growing adoption in various sectors and the strong developer community. Since becoming the second-largest cryptocurrency behind Bitcoin in 2018, ETH has maintained this position. But what makes it so successful in the highly volatile cryptocurrency market?    A new era of blockchain technology  The idea of Ethereum was born in the mind of Vitalik Buterin, a visionary entrepreneur and cryptocurrency enthusiast. He first became engrossed in blockchain technology in 2011 and two years later proposed his own blockchain platform, Ethereum, as a new type of digital environment that can go beyond financial transactions.   The Ethereum project was crowdfunded in 2014, raising over 18 million USD in Bitcoin, and the network went live on 30 July 2015. While Bitcoin was created as a decentralised digital currency to serve as an alternative to traditional currencies, ETH aimed to extend the capabilities of blockchain technology.   In comparison to Bitcoin, Ethereum offers a more versatile blockchain capable of supporting smart contracts, which are self-executing contracts with the terms directly written into code. The new blockchain allowed for\",\n",
       "  \"There are quite literally thousands of options for investors looking to add crypto exposure to their portfolios. However, the harsh reality is that the overwhelming majority of those options likely won't be worth much in the future. But the ones that do have long-term potential could produce gains that only cryptocurrencies have been known to generate. If you're looking for the ultimate cryptocurrency in which to invest $1,000 in August, look no further than Ethereum (CRYPTO: ETH) for these three reasons. Ethereum boasts one of the most expansive and diverse ecosystems in all of crypto. It is the undisputed leader of one of crypto's most innovative and prominent use cases: Decentralized finance (DeFi). DeFi, collectively worth more than $80 billion, has come a long way from its humble beginnings as a niche experiment. As one of the first DeFi-capable blockchains, Ethereum was an early leader in the space, yet it hasn't relinquished its control. Today, Ethereum remains the home of DeFi's most noteworthy players, supporting more than 50% of the total DeFi market value. While it may seem like Ethereum faces stiff competition from other blockchains vying for a slice of the DeFi pie, this couldn't be further from the truth. A couple of years ago, such claims might have held some merit due to Ethereum's slower speeds and higher transaction fees. However, the advent of Layer 2 solutions has transformed the landscape. Layer 2 blockchains, like Polygon, Arbitrum, Optimism, and Base, inherit Ethereum's robust decentralization and security while providing faster transactions and lower costs. This development effectively extends Ethereum's reach across the crypto space, solidifying its position as the go-to platform for innovation and experimentation. In a significant milestone, Ethereum recently followed in Bitcoin's (CRYPTO: BTC) footsteps by becoming the second cryptocurrency to receive approval for a spot exchange-traded fund (ETF). A spot ETF is similar to a gold ETF, allowing investors to gain exposure to the asset's price movements without actually owning the underlying asset. This is a crucial development, as it democratizes access for retail and institutional investors alike, making it easier for a broader audience to\",\n",
       "  'A wallet supposedly tied to Jump Trading moves $29 million in ether, preparing for potential sales. The wallet still holds over 16,000 ETH, according to Spot On Chain. A wallet tagged as belonging to trading giant Jump Trading moved large amounts of ether {{ETH}} on-chain as the second-largest cryptocurrency recovered from Monday\\'s crypto-market rout. According to blockchain sleuth Spot On Chain, the wallet unstaked 11,500 ether, worth $29 million, from liquid-staking service Lido Finance and moved the coins to an address labeled Jump Trading 0xf58: 0xf584f8728b874a6a5c7a8d4d387c9aae9172d621. The Chicago-based company has previously used that address to transfer coins to centralized crypto exchanges, a move often associated with an intention to sell or liquidate holdings in the market. \"Note that the 11,500 ETH has been transferred to the wallet \\'0xf58\\' which they often use to deposit ETH to CEX,\" Spot On Chain posted on X. \"Currently, Jump Trading still holds 21,394 WSTETH ($63.6M) and 16,292 ETH ($41.3M) in the wallets and has 19,049 STETH under the unstaking process from Lido.\" On Sunday, a wallet said to belong to the firm moved $46 million worth of ether to centralized exchanges, deepening ether\\'s sell-off set in motion by macroeconomic developments. Ether, priced at $2,900 early Sunday, fell to almost $2,100 on Monday, CoinDesk data show. \"The selloff was exacerbated by crypto-specific catalysts, such as the unwinding of Jump Trading’s crypto portfolio following its CFTC probe, adding to the ongoing but subsiding supply overhangs from Mt.Gox creditor repayments and GBTC & ETHE outflows. Jump Crypto’s liquidations over the past two weeks stem predominantly from ETH, with deposits to exchanges rising to levels last seen during the FTX collapse,\" Coin Metrics said in a newsletter Tuesday. The ether price has regained some poise since Monday, bouncing to over $2,400, tracking recovery in market leader bitcoin and signs of a risk-reset in traditional markets. Sign in to access your portfolio',\n",
       "  '© 2024 - Privacy - Terms',\n",
       "  \"The cryptocurrency market is bouncing back from losses incurred during a global sell-off that left markets deeply in the red. Bitcoin (BTC-USD) is leading the recovery, having rebounded nearly 7% in Tuesday's trading. Ethereum (ETH-USD) is also recouping some of its recent losses. Yahoo Finance markets and data editor Jared Blikre breaks down the details. For more expert insight and the latest market action, click here to watch this full episode of Catalysts. This post was written by Angel Smith Sign in to access your portfolio\",\n",
       "  'While the price of Bitcoin (BTC) has been holding steady since the April halving, Ethereum (ETH) has been fast off the blocks in 2024. The price of ETH is hovering around the $3500 mark, having risen 56.4% year to date as of Jun 19. Ethereum is a blockchain-powered, open-ended, decentralized software platform. ETH’s operations as an open-source blockchain with smart contract functionality, primarily in the realm of decentralized finance, have lent even more significance to it beyond the tag of being the world’s second-largest crypto. It functions more like a network that is continually updated and maintained by validators who receive ETH as compensation for their contributions. However, the latest upgrade to its systems, the Dencun upgrade from March, has failed to raise its stock per expectations. The upgrade was touted to make transactions cheaper on these blockchains and boost mainstream consumer demand. It remains to be seen whether the upgrade will have an impact eventually. A massive boost has also come in from new institutional investments, with traditional financial giants following up their successful spot BTC ETF bids with ETH ones. The conclusion of the SEC’s investigation into Ethereum 2.0 on Jun 18 is also being considered a major victory for the entire crypto industry. Not only does it boost investor confidence in ETH, but sets a precedent for crypto regulations. If one were to interpret the findings of the investigation, one might interpret that the sale of ETH is not considered a securities transaction. This news pulled ETH’s price up by more than 3% in the session. Ether, with the momentum from the upgrades and ETH applications and this major regulatory win, looks all set to rise appreciably. In fact, it may go beyond the $10,000 mark before the year ends. So, with Ethereum already starting to make good of the state of the market, it might be prudent to keep a watch on stocks exposed to this open-source, decentralized blockchain platform. Here is a selection. These currently carry a Zacks Rank #1 (Strong Buy), #2 (Buy) or #3 (Hold). You can see the complete list of today’s',\n",
       "  'ETH\\'s price drops to lowest since January. A wallet supposedly associated with Jump Trading moved 17,576 ETH to centralized exchanges, according to Spot On Chain. Ether\\'s {{ETH}} price cratered as a prominent crypto trading firm moved large amounts of ETH to centralized exchanges in preparation for potential liquidation. Ethereum\\'s native token, the second-largest cryptocurrency by market value, has dropped 20% in 24 hours, hitting a seven-month low of under $2,100 during Monday\\'s Asian hours, according to CoinDesk data. In the past 24 hours, a wallet identified as Chicago-based trading heavyweight Jump Trading by onchain sleuth Spot On Chain transferred 17,576 ETH worth over $46 million to centralized exchanges. In June, reports emerged that Jump Trading was being probed by the CFTC. The wallet has moved nearly 90,000 ETH to exchanges since July 25 and still holds 37,600 wstETH and 11,500 stETH at press time. wstETH is the DeFi-compatible version of Lido\\'s staked ether (stETH). \"The reason for the crazy crypto sell-off seems to be Jump Trading, who are either getting margin called in the traditional markets and need liquidity over the weekend, or they are exiting the crypto business due to regulatory reasons (Terra Luna related),\" Dr. Julian Hosp, CEO and co-founder of decentralized platform Cake Group said on X. The supposed liquidation over Sunday and early Monday has drawn the crypto community\\'s ire. The said time frame is generally characterized by weak liquidity or the ability of the market to absorb large orders at stable prices.  Sign in to access your portfolio',\n",
       "  \"The asset management giant BlackRock’s (BLK) clients have “a little bit” interest in Ethereum, compared to bitcoin {{BTC}}, head of digital assets Robert Mitchnick said. “I can say that for our client base, bitcoin is overwhelmingly the number one focus and a little bit Ethereum,” he said during a fireside chat at the Friday Bitcoin Investor Day conference in New York. For every other crypto asset, he said, demand is “very, very little.” Perhaps it's only fitting that when asked about if BlackRock will be launching an exchange-traded fund (ETF) related to memecoin dogwifhat (WIF) anytime soon, Mitchnick said he didn’t know what it was, noting that there’s a misconception from the crypto industry that the asset manager will have a “long tail” of other services. “That’s really not what we’re focused on,” he said. BlackRock ushered in a bullish optimism within the digital assets market in January when it got approval to offer the Bitcoin Bitcoin Fund (IBIT) to investors, which in less than two months of trading, became one of the top five ETFs overall in the market. The fund has attracted $15 billion in assets, significantly more than any of the other nine funds. Read more: BlackRock's ETF Demand Ranks Among Top 5 Part of the reason why the asset manager – which in previous years had been opposed to bitcoin – decided to launch a bitcoin ETF was because clients were consistent and enduring in expressing their interest in bitcoin through both bull and bear markets, Mitchnick said. He said they had also gotten “frustrated” about how difficult it was to get exposure to the crypto asset. Most recently, BlackRock unveiled its tokenized asset fund, BUIDL, on the Ethereum network, with asset tokenization company Securitize acting as a transfer agent and tokenization platform. Read more: Thank BlackRock’s Clients for Larry Fink’s Change of Heart  Sign in to access your portfolio\"]}"
      ]
     },
     "execution_count": 15,
     "metadata": {},
     "output_type": "execute_result"
    }
   ],
   "source": [
    "articles = {ticker: scrape(cleanURLS[ticker]) for ticker in tickers}\n",
    "articles"
   ]
  },
  {
   "cell_type": "markdown",
   "metadata": {},
   "source": [
    "## Summarizing content"
   ]
  },
  {
   "cell_type": "code",
   "execution_count": 18,
   "metadata": {},
   "outputs": [],
   "source": [
    "\n",
    "def summarize(art):\n",
    "    summaries = []\n",
    "    for article in art:\n",
    "        input_ids = tokenizer.encode(article, return_tensors='pt')\n",
    "        output = summarizer.generate(input_ids, max_length=55, num_beams=5, early_stopping=True) #Generates the summary\n",
    "        summary = tokenizer.decode(output[0], skip_special_tokens=True) #Decodes the summary\n",
    "        summaries.append(summary)\n",
    "    return summaries"
   ]
  },
  {
   "cell_type": "code",
   "execution_count": null,
   "metadata": {},
   "outputs": [],
   "source": [
    "\n",
    "summaries = {ticker: summarize(articles[ticker]) for ticker in tickers}\n",
    "\n",
    "\n",
    "summaries"
   ]
  }
 ],
 "metadata": {
  "kernelspec": {
   "display_name": "base",
   "language": "python",
   "name": "python3"
  },
  "language_info": {
   "codemirror_mode": {
    "name": "ipython",
    "version": 3
   },
   "file_extension": ".py",
   "mimetype": "text/x-python",
   "name": "python",
   "nbconvert_exporter": "python",
   "pygments_lexer": "ipython3",
   "version": "3.11.7"
  }
 },
 "nbformat": 4,
 "nbformat_minor": 2
}
