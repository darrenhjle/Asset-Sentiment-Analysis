{
 "cells": [
  {
   "cell_type": "markdown",
   "metadata": {},
   "source": [
    "## Importing Libraries"
   ]
  },
  {
   "cell_type": "code",
   "execution_count": 1,
   "metadata": {},
   "outputs": [],
   "source": [
    "from transformers import pipeline, AutoTokenizer, TFAutoModelForSeq2SeqLM\n",
    "from bs4 import BeautifulSoup\n",
    "import tf_keras as keras\n",
    "import re\n",
    "import requests"
   ]
  },
  {
   "cell_type": "markdown",
   "metadata": {},
   "source": [
    "## Initializing Tokenizer, Summarizer and Sentiment Analysis models"
   ]
  },
  {
   "cell_type": "code",
   "execution_count": null,
   "metadata": {},
   "outputs": [],
   "source": [
    "# Initialize the tokenizer for the financial summarization model\n",
    "tokenizer = AutoTokenizer.from_pretrained(\"human-centered-summarization/financial-summarization-pegasus\")\n",
    "\n",
    "# Initialize the summarization model\n",
    "summarizer = TFAutoModelForSeq2SeqLM.from_pretrained(\"human-centered-summarization/financial-summarization-pegasus\")\n",
    "\n",
    "# Initialize the sentiment analysis pipeline using the FinBERT model\n",
    "sentiment_analysis = pipeline(\"sentiment-analysis\", model=\"yiyanghkust/finbert-tone\")"
   ]
  },
  {
   "cell_type": "code",
   "execution_count": null,
   "metadata": {},
   "outputs": [],
   "source": [
    "# Initialize the tickers to be used in the sentiment analysis\n",
    "# Using the top 2 cryptocurrencies as an example\n",
    "tickers = ['BTC', 'ETH']"
   ]
  },
  {
   "cell_type": "markdown",
   "metadata": {},
   "source": [
    "## Search news URL method"
   ]
  },
  {
   "cell_type": "code",
   "execution_count": null,
   "metadata": {},
   "outputs": [],
   "source": [
    "# Function to find news articles for a given ticker\n",
    "def search_for_news_urls(ticker):\n",
    "    # Construct the Google search URL for Yahoo Finance news related to the ticker\n",
    "    search_url = f\"https://www.google.com/search?q=yahoo+finance+{ticker}&tbm=nws\"\n",
    "    \n",
    "    # Make a request to the search URL\n",
    "    response = requests.get(search_url)\n",
    "    \n",
    "    # Parse the HTML content of the response\n",
    "    soup = BeautifulSoup(response.text, 'html.parser')\n",
    "    \n",
    "    # Find all anchor tags in the parsed HTML content\n",
    "    anchor_tags = soup.find_all('a')\n",
    "    \n",
    "    # Extract the href attributes from the anchor tags\n",
    "    hrefs = [link['href'] for link in anchor_tags]\n",
    "    \n",
    "    return hrefs"
   ]
  },
  {
   "cell_type": "code",
   "execution_count": null,
   "metadata": {},
   "outputs": [],
   "source": [
    "# Create a dictionary where each ticker is mapped to its corresponding news article URLs\n",
    "# The search_for_news_urls function is called for each ticker to get the news URLs\n",
    "raw = {ticker: search_for_news_urls(ticker) for ticker in tickers}\n",
    "\n",
    "# Display the keys of the raw dictionary, which are the tickers\n",
    "raw.keys()"
   ]
  }
 ],
 "metadata": {
  "kernelspec": {
   "display_name": "base",
   "language": "python",
   "name": "python3"
  },
  "language_info": {
   "codemirror_mode": {
    "name": "ipython",
    "version": 3
   },
   "file_extension": ".py",
   "mimetype": "text/x-python",
   "name": "python",
   "nbconvert_exporter": "python",
   "pygments_lexer": "ipython3",
   "version": "3.11.7"
  }
 },
 "nbformat": 4,
 "nbformat_minor": 2
}
